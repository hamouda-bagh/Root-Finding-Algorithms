{
 "cells": [
  {
   "cell_type": "markdown",
   "metadata": {},
   "source": [
    "# Méthode de Brent"
   ]
  },
  {
   "cell_type": "code",
   "execution_count": 70,
   "metadata": {},
   "outputs": [
    {
     "name": "stdout",
     "output_type": "stream",
     "text": [
      "Donner l'expreesion de la fonction: x**2-4*x+3\n",
      "Donner le début de l'intervalle: 0\n",
      "Donner la fin de l'intervalle: 1.5\n",
      "Donner l'erreur0.0001\n",
      "Affichage de l'itération 1 :\n",
      "1.2 -0.3599999999999999\n",
      "Affichage de l'itération 2 :\n",
      "0.9527472527472522 0.09673831662842769\n",
      "Affichage de l'itération 3 :\n",
      "1.005116002379536 -0.010205831278724542\n",
      "Affichage de l'itération 4 :\n",
      "1.0001183785405123 -0.0002367430675458415\n",
      "Affichage de l'itération 5 :\n",
      "0.9999999861290559 2.7741888342092125e-08\n",
      "Affichage de l'itération 6 :\n",
      "1.0000000000008211 -1.6422418980255316e-12\n",
      "Affichage du résultat :\n",
      "1.0000000000008211\n",
      "Le nombre d'itérations final est: 6\n",
      "Temps d'exécution est  0.04128289222717285\n"
     ]
    },
    {
     "data": {
      "image/png": "[encoded data removed]",
      "text/plain": [
       "<Figure size 432x288 with 1 Axes>"
      ]
     },
     "metadata": {
      "needs_background": "light"
     },
     "output_type": "display_data"
    }
   ],
   "source": [
    "import numpy as np\n",
    "import matplotlib.pyplot as plt\n",
    "import time\n",
    "\n",
    "f=input(\"Donner l'expreesion de la fonction: \")\n",
    "a=float(input(\"Donner le début de l'intervalle: \"))\n",
    "b=float(input(\"Donner la fin de l'intervalle: \"))\n",
    "e=float(input(\"Donner l'erreur\"))\n",
    "\n",
    "x = np.linspace(a, b, 100)\n",
    "\n",
    "t1=time.time()\n",
    "def fct(f,x):\n",
    "    r = eval(f)\n",
    "    return r #On définit la fonction qu'on souhaitera chercher la racine\n",
    "\n",
    "if fct(f,a)*fct(f,b) < 0 :    \n",
    "\n",
    "    if abs(fct(f,a))<abs(fct(f,b)) : #a est une meilleure aproximtion que b\n",
    "        a,b=b,a\n",
    "\n",
    "    c=a\n",
    "    mflag=True\n",
    "    i=0\n",
    "    \n",
    "    while fct(f,b)!=0 and abs(b-a)>e : #condition de convergence\n",
    "        i+=1\n",
    "        if fct(f,a)!=fct(f,c) and fct(f,b)!=fct(f,c) : #interpolation quadratique inverse\n",
    "            s= (a*fct(f,b)*fct(f,c)) / ((fct(f,a)-fct(f,b))*(fct(f,a)-fct(f,c)))\n",
    "            s+= (b*fct(f,a)*fct(f,c)) / ((fct(f,b)-fct(f,a))*(fct(f,b)-fct(f,c)))\n",
    "            s+= (c*fct(f,a)*fct(f,b)) / ((fct(f,c)-fct(f,a))*(fct(f,c)-fct(f,b)))\n",
    "                 \n",
    "        else :\n",
    "            s= b - fct(f,b)*(b-a)/(fct(f,b)-fct(f,a)) #méthode de la sécante\n",
    "        \n",
    "        if (s < min((3*a+b)/4,b) or s > max((3*a+b)/4,b)) or (mflag==True and abs(s-b)>=abs(b-c)/2) or (mflag==False and abs(s-b)>=abs(c-d)/2):\n",
    "            #la condition pour accepter la valeur d'interpolation s \n",
    "            s=(a+b)/2 #méthode de la dichotomie\n",
    "            mflag=True #on a utilisé la méthode de dichotomie\n",
    "                 \n",
    "        else:\n",
    "            mflag=False #on n'a pas utilisé la méthode de dichotomie\n",
    "                 \n",
    "        print (\"Affichage de l'itération\",i,\":\")\n",
    "        print (s,fct(f,s))\n",
    "        plt.plot(s, fct(f,s), color='blue', marker='o')\n",
    "        \n",
    "        d=c\n",
    "        c=b\n",
    "                 \n",
    "        if fct(f,a)*fct(f,s)<0 :\n",
    "            b=s\n",
    "        else:    \n",
    "            a=s\n",
    "                 \n",
    "        if abs(fct(f,a))<abs(fct(f,b)): #a est une meilleure aproximtion que b\n",
    "            a,b=b,a\n",
    "            \n",
    "    print (\"Affichage du résultat :\")\n",
    "    print (b)\n",
    "    print(\"Le nombre d'itérations final est:\", i)\n",
    "    \n",
    "    plt.plot(x, fct(f,x), label='Courbe de f', linewidth=2, color='green')\n",
    "    plt.plot(b,fct(f,b),color='red',marker='*', label='Point final')\n",
    "    plt.legend()\n",
    "    print(\"Temps d'exécution est \" ,time.time()-t1)"
   ]
  },
  {
   "cell_type": "markdown",
   "metadata": {},
   "source": [
    "#    Méthode de Fausse Position"
   ]
  },
  {
   "cell_type": "code",
   "execution_count": 72,
   "metadata": {},
   "outputs": [
    {
     "name": "stdout",
     "output_type": "stream",
     "text": [
      "Donner le début de l'intervalle: 0\n",
      "Donner la fin de l'intervalle: 1.5\n",
      "Donner l'erreur0.0001\n",
      "Affichage de l'itération 1 :\n",
      "1.2 -0.3599999999999999\n",
      "Affichage de l'itération 2 :\n",
      "0.9230769230769231 0.15976331360946716\n",
      "Affichage de l'itération 3 :\n",
      "1.024390243902439 -0.04818560380725767\n",
      "Affichage de l'itération 4 :\n",
      "0.9917355371900826 0.01659722696537136\n",
      "Affichage de l'itération 5 :\n",
      "1.0027397260273974 -0.0054719459560894634\n",
      "Affichage de l'itération 6 :\n",
      "0.9990850869167429 0.0018306632324640582\n",
      "Affichage de l'itération 7 :\n",
      "1.000304785126486 -0.0006094773589984115\n",
      "Affichage de l'itération 8 :\n",
      "0.9998983843105376 0.0002032417046731183\n",
      "Affichage de l'itération 9 :\n",
      "1.000033869602032 -6.773805691429047e-05\n",
      "Affichage de l'itération 10 :\n",
      "0.999988709877728 2.2580372010860827e-05\n",
      "Affichage du résultat :\n",
      "0.999988709877728\n",
      "Le nombre d'itérations final est: 10\n",
      "temps d exécution est  0.04125094413757324\n"
     ]
    },
    {
     "data": {
      "text/plain": [
       "<matplotlib.legend.Legend at 0x7f7e00364f40>"
      ]
     },
     "execution_count": 72,
     "metadata": {},
     "output_type": "execute_result"
    },
    {
     "data": {
      "image/png": "[encoded data removed]",
      "text/plain": [
       "<Figure size 432x288 with 1 Axes>"
      ]
     },
     "metadata": {
      "needs_background": "light"
     },
     "output_type": "display_data"
    }
   ],
   "source": [
    "import numpy as np \n",
    "import matplotlib.pyplot as plt\n",
    "from scipy import misc\n",
    "import time \n",
    "\n",
    "def f(x):\n",
    "    return x**2-4*x+3\n",
    "def g(x): #Dérivée seconde de la fonction\n",
    "    return misc.derivative(f, x, n=2)\n",
    "\n",
    "def concave(a ,b): #Vérification de la concavité de f\n",
    "    return (g(a) < 0)\n",
    "\n",
    "a=float(input(\"Donner le début de l'intervalle: \"))\n",
    "b=float(input(\"Donner la fin de l'intervalle: \"))\n",
    "e=float(input(\"Donner l'erreur\"))\n",
    "t1=time.time()\n",
    "\n",
    "xx = np.linspace(a, b, 100)\n",
    "\n",
    "croissante=(f(a)<f(b)) #Vérification de la croissance de f\n",
    "\n",
    "if (concave == True and croissante == True) or (concave == False and croissante == False):\n",
    "    x = b\n",
    "else:\n",
    "    x = a\n",
    "\n",
    "i=0    \n",
    "while True:\n",
    "    i+=1\n",
    "    if (concave == True and croissante == True) or (concave == False and croissante == False):\n",
    "        rslt = a - ( x - a ) * f(a) / ( f(x) - f(a) )\n",
    "    else:\n",
    "        rslt = b - (b - x) * f(b) / ( f(b) - f(x) )\n",
    "    \n",
    "    print (\"Affichage de l'itération\",i,\":\")\n",
    "    print (rslt,f(rslt))\n",
    "    plt.plot(rslt, f(rslt), color='blue', marker='o')        \n",
    "    \n",
    "    if abs (x - rslt) <= e:\n",
    "        break\n",
    "    else:\n",
    "        x = rslt\n",
    "\n",
    "print (\"Affichage du résultat :\")\n",
    "print (rslt)\n",
    "print(\"Le nombre d'itérations final est:\", i)\n",
    "print('temps d exécution est ' ,time.time()-t1)\n",
    "\n",
    "plt.xlabel('Axe des abscisses') \n",
    "plt.ylabel('Axe des ordonnées') \n",
    "plt.title('Méthode de Fausse Position')\n",
    "plt.plot(rslt,f(rslt),color='red',marker='*', label='Point final')\n",
    "plt.plot(xx, f(xx), label='Courbe de f', linewidth=2, color='green')\n",
    "plt.legend()"
   ]
  }
 ],
 "metadata": {
  "kernelspec": {
   "display_name": "Python 3",
   "language": "python",
   "name": "python3"
  },
  "language_info": {
   "codemirror_mode": {
    "name": "ipython",
    "version": 3
   },
   "file_extension": ".py",
   "mimetype": "text/x-python",
   "name": "python",
   "nbconvert_exporter": "python",
   "pygments_lexer": "ipython3",
   "version": "3.8.3"
  }
 },
 "nbformat": 4,
 "nbformat_minor": 4
}
